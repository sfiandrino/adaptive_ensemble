{
 "cells": [
  {
   "cell_type": "code",
   "execution_count": 1,
   "metadata": {},
   "outputs": [
    {
     "name": "stderr",
     "output_type": "stream",
     "text": [
      "<frozen importlib._bootstrap>:228: RuntimeWarning: scipy._lib.messagestream.MessageStream size changed, may indicate binary incompatibility. Expected 56 from C header, got 64 from PyObject\n"
     ]
    }
   ],
   "source": [
    "import pandas as pd \n",
    "import numpy as np \n",
    "import matplotlib as mpl\n",
    "import matplotlib.pyplot as plt\n",
    "import numpy as np\n",
    "import pandas as pd\n",
    "from matplotlib.ticker import FormatStrFormatter\n",
    "import matplotlib.font_manager as fm\n",
    "from functions_visualization import * \n",
    "font_path = \"font-folder/Roboto-Light.ttf\"\n",
    "font_path_bold = \"font-folder/Roboto-Bold.ttf\"\n",
    "font_prop = fm.FontProperties(fname=font_path, size=12)\n",
    "font_prop_legend = fm.FontProperties(fname=font_path, size=16)\n",
    "font_prop_title = fm.FontProperties(fname=font_path_bold, size=20)\n",
    "import matplotlib as mpl\n",
    "from PIL import Image, ImageDraw, ImageFont\n",
    "mpl.rcParams['font.family'] = font_prop.get_name()\n",
    "from matplotlib.cm import ScalarMappable\n",
    "from matplotlib.lines import Line2D\n",
    "from mpl_toolkits.axes_grid1.inset_locator import inset_axes\n",
    "from textwrap import wrap"
   ]
  },
  {
   "cell_type": "code",
   "execution_count": 2,
   "metadata": {},
   "outputs": [
    {
     "data": {
      "text/html": [
       "<div>\n",
       "<style scoped>\n",
       "    .dataframe tbody tr th:only-of-type {\n",
       "        vertical-align: middle;\n",
       "    }\n",
       "\n",
       "    .dataframe tbody tr th {\n",
       "        vertical-align: top;\n",
       "    }\n",
       "\n",
       "    .dataframe thead th {\n",
       "        text-align: right;\n",
       "    }\n",
       "</style>\n",
       "<table border=\"1\" class=\"dataframe\">\n",
       "  <thead>\n",
       "    <tr style=\"text-align: right;\">\n",
       "      <th></th>\n",
       "      <th>week</th>\n",
       "      <th>k</th>\n",
       "      <th>scenario</th>\n",
       "      <th>posterior_value</th>\n",
       "    </tr>\n",
       "  </thead>\n",
       "  <tbody>\n",
       "    <tr>\n",
       "      <th>0</th>\n",
       "      <td>2023-11-04</td>\n",
       "      <td>5.0</td>\n",
       "      <td>A-2023-08-14</td>\n",
       "      <td>0.144444</td>\n",
       "    </tr>\n",
       "    <tr>\n",
       "      <th>1</th>\n",
       "      <td>2023-11-04</td>\n",
       "      <td>5.0</td>\n",
       "      <td>B-2023-08-14</td>\n",
       "      <td>0.155556</td>\n",
       "    </tr>\n",
       "    <tr>\n",
       "      <th>2</th>\n",
       "      <td>2023-11-04</td>\n",
       "      <td>5.0</td>\n",
       "      <td>C-2023-08-14</td>\n",
       "      <td>0.211111</td>\n",
       "    </tr>\n",
       "    <tr>\n",
       "      <th>3</th>\n",
       "      <td>2023-11-04</td>\n",
       "      <td>5.0</td>\n",
       "      <td>D-2023-08-14</td>\n",
       "      <td>0.159259</td>\n",
       "    </tr>\n",
       "    <tr>\n",
       "      <th>4</th>\n",
       "      <td>2023-11-04</td>\n",
       "      <td>5.0</td>\n",
       "      <td>E-2023-08-14</td>\n",
       "      <td>0.200000</td>\n",
       "    </tr>\n",
       "  </tbody>\n",
       "</table>\n",
       "</div>"
      ],
      "text/plain": [
       "         week    k      scenario  posterior_value\n",
       "0  2023-11-04  5.0  A-2023-08-14         0.144444\n",
       "1  2023-11-04  5.0  B-2023-08-14         0.155556\n",
       "2  2023-11-04  5.0  C-2023-08-14         0.211111\n",
       "3  2023-11-04  5.0  D-2023-08-14         0.159259\n",
       "4  2023-11-04  5.0  E-2023-08-14         0.200000"
      ]
     },
     "execution_count": 2,
     "metadata": {},
     "output_type": "execute_result"
    }
   ],
   "source": [
    "df = pd.read_csv(\"../output_data/posterior_analysis/posterior_distribution_Ens2_S2_LOP_wmape.csv\")\n",
    "df['k'] = df['k'] * 100\n",
    "df.head()"
   ]
  },
  {
   "cell_type": "code",
   "execution_count": 3,
   "metadata": {},
   "outputs": [
    {
     "name": "stdout",
     "output_type": "stream",
     "text": [
      "Plot for k=15 saved in in ../figures/scenario_posterior_k15_main.png\n",
      "Plot for k=25 saved in in ../figures/scenario_posterior_k25_main.png\n",
      "Plot for k=50 saved in in ../figures/scenario_posterior_k50_main.png\n"
     ]
    }
   ],
   "source": [
    "for k_val in [15, 25, 50]:\n",
    "    plot_scenario_polar(\n",
    "        df=df,\n",
    "        k_value=k_val,\n",
    "        output_path=\"../figures\",\n",
    "        font_prop=font_prop,  # passa i tuoi oggetti font se già definiti\n",
    "        font_prop_title=font_prop_title\n",
    "    )"
   ]
  },
  {
   "cell_type": "markdown",
   "metadata": {},
   "source": [
    "Combine plots for k=5 and k=50 for supplementary"
   ]
  },
  {
   "cell_type": "code",
   "execution_count": 4,
   "metadata": {},
   "outputs": [],
   "source": [
    "img_A = Image.open(\"../figures/scenario_posterior_k15_main.png\")  \n",
    "img_B = Image.open(\"../figures/scenario_posterior_k50_main.png\") \n",
    "target_width = max(img_A.width, img_B.width)\n",
    "img_A = img_A.resize((target_width, int(img_A.height * target_width / img_A.width)))\n",
    "img_B = img_B.resize((target_width, int(img_B.height * target_width / img_B.width)))\n",
    "total_width = img_A.width + img_B.width\n",
    "total_height = img_A.height\n",
    "combined_img = Image.new(\"RGB\", (total_width, total_height), \"white\")\n",
    "combined_img.paste(img_A, (0, 0))\n",
    "combined_img.paste(img_B, (img_A.width, 0))\n",
    "draw = ImageDraw.Draw(combined_img)\n",
    "font = ImageFont.truetype(font_path_bold, 150) \n",
    "font2 = ImageFont.truetype(font_path, 75) \n",
    "\n",
    "labels = [(\"A.\", (50, 10)), (\"B.\", (img_A.width + 40, 10))]\n",
    "labels2 = [(\"15%\", (200, 70)), (\"50%\", (img_A.width + 200, 70))]\n",
    "\n",
    "for label, position in labels:\n",
    "    draw.text(position, f\"{label}\", fill=\"black\", font=font)\n",
    "for label2, position2 in labels2:\n",
    "    draw.text(position2, f\"{label2}\", fill=\"black\", font=font2) \n",
    "\n",
    "combined_img.save(\"../figures/scenario_posterior_k15_k50_supplementary.png\")"
   ]
  },
  {
   "cell_type": "code",
   "execution_count": null,
   "metadata": {},
   "outputs": [],
   "source": []
  }
 ],
 "metadata": {
  "kernelspec": {
   "display_name": "base",
   "language": "python",
   "name": "python3"
  },
  "language_info": {
   "codemirror_mode": {
    "name": "ipython",
    "version": 3
   },
   "file_extension": ".py",
   "mimetype": "text/x-python",
   "name": "python",
   "nbconvert_exporter": "python",
   "pygments_lexer": "ipython3",
   "version": "3.9.7"
  }
 },
 "nbformat": 4,
 "nbformat_minor": 2
}
